{
  "nbformat": 4,
  "nbformat_minor": 0,
  "metadata": {
    "colab": {
      "provenance": [],
      "authorship_tag": "ABX9TyPYnpgSw0hZaqH0/hMe4qxm",
      "include_colab_link": true
    },
    "kernelspec": {
      "name": "python3",
      "display_name": "Python 3"
    },
    "language_info": {
      "name": "python"
    }
  },
  "cells": [
    {
      "cell_type": "markdown",
      "metadata": {
        "id": "view-in-github",
        "colab_type": "text"
      },
      "source": [
        "<a href=\"https://colab.research.google.com/github/tsangrebecca/CodingChallenge/blob/main/Math_Palindrome_or_not%3F.ipynb\" target=\"_parent\"><img src=\"https://colab.research.google.com/assets/colab-badge.svg\" alt=\"Open In Colab\"/></a>"
      ]
    },
    {
      "cell_type": "markdown",
      "source": [
        "Given an integer x, return true if x is a\n",
        "palindrome\n",
        ", and false otherwise."
      ],
      "metadata": {
        "id": "Ljexp-Nibtxp"
      }
    },
    {
      "cell_type": "markdown",
      "source": [
        "**Easy way but more space complexity**\n"
      ],
      "metadata": {
        "id": "E5R-IGMPj29P"
      }
    },
    {
      "cell_type": "code",
      "source": [
        "# Convert to string and reverse it\n",
        "# Time complexity O(number of digits) aka O(log x)\n",
        "# Space complexity O(number of digits)\n",
        "\n",
        "def is_palindrome(x: int) -> bool:\n",
        "    # Convert the integer to a string\n",
        "    str_x = str(x)\n",
        "\n",
        "    # Check if the string is equal to its reverse\n",
        "    return str_x == str_x[::-1]\n",
        "\n",
        "# Example usage:\n",
        "print(is_palindrome(121))  # True\n",
        "print(is_palindrome(-121))  # False\n",
        "print(is_palindrome(10))  # False\n",
        "\n"
      ],
      "metadata": {
        "colab": {
          "base_uri": "https://localhost:8080/"
        },
        "id": "GeYZ88lffUbV",
        "outputId": "87aedd7e-5bc0-4c87-aaf3-df31e3382d8a"
      },
      "execution_count": 1,
      "outputs": [
        {
          "output_type": "stream",
          "name": "stdout",
          "text": [
            "True\n",
            "False\n",
            "False\n"
          ]
        }
      ]
    },
    {
      "cell_type": "code",
      "source": [],
      "metadata": {
        "id": "u6Kd8dsVkGxc"
      },
      "execution_count": null,
      "outputs": []
    }
  ]
}