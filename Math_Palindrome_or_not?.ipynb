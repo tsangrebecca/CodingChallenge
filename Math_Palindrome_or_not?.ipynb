{
  "nbformat": 4,
  "nbformat_minor": 0,
  "metadata": {
    "colab": {
      "provenance": [],
      "authorship_tag": "ABX9TyMU027V7fZ4QCIOpQ5CeJmZ",
      "include_colab_link": true
    },
    "kernelspec": {
      "name": "python3",
      "display_name": "Python 3"
    },
    "language_info": {
      "name": "python"
    }
  },
  "cells": [
    {
      "cell_type": "markdown",
      "metadata": {
        "id": "view-in-github",
        "colab_type": "text"
      },
      "source": [
        "<a href=\"https://colab.research.google.com/github/tsangrebecca/CodingChallenge/blob/main/Math_Palindrome_or_not%3F.ipynb\" target=\"_parent\"><img src=\"https://colab.research.google.com/assets/colab-badge.svg\" alt=\"Open In Colab\"/></a>"
      ]
    },
    {
      "cell_type": "markdown",
      "source": [
        "Given an integer x, return true if x is a\n",
        "palindrome\n",
        ", and false otherwise."
      ],
      "metadata": {
        "id": "Ljexp-Nibtxp"
      }
    },
    {
      "cell_type": "markdown",
      "source": [
        "**Easy way but more space complexity**\n"
      ],
      "metadata": {
        "id": "E5R-IGMPj29P"
      }
    },
    {
      "cell_type": "code",
      "source": [
        "# Convert to string and reverse it\n",
        "# Time complexity O(number of digits) aka O(log x)\n",
        "# Space complexity O(number of digits)\n",
        "\n",
        "def is_palindrome(x: int) -> bool:\n",
        "    # Convert the integer to a string\n",
        "    str_x = str(x)\n",
        "\n",
        "    # Check if the string is equal to its reverse\n",
        "    return str_x == str_x[::-1]\n",
        "\n",
        "# Example usage:\n",
        "print(is_palindrome(121))  # True\n",
        "print(is_palindrome(-121))  # False\n",
        "print(is_palindrome(10))  # False\n",
        "\n"
      ],
      "metadata": {
        "colab": {
          "base_uri": "https://localhost:8080/"
        },
        "id": "GeYZ88lffUbV",
        "outputId": "87aedd7e-5bc0-4c87-aaf3-df31e3382d8a"
      },
      "execution_count": 1,
      "outputs": [
        {
          "output_type": "stream",
          "name": "stdout",
          "text": [
            "True\n",
            "False\n",
            "False\n"
          ]
        }
      ]
    },
    {
      "cell_type": "markdown",
      "source": [
        "**More efficient but harder to understand solution**"
      ],
      "metadata": {
        "id": "u6Kd8dsVkGxc"
      }
    },
    {
      "cell_type": "code",
      "source": [
        "def is_palindrome(x: int) -> bool:\n",
        "    # EDGE CASES\n",
        "    # Negative numbers and numbers ending in 0 (except 0 itself) are not palindromes\n",
        "    if x < 0 or (x % 10 == 0 and x != 0):\n",
        "        return False\n",
        "\n",
        "    # reversed_half is initialized to 0. This variable will store the reversed digits of the second half of the number.\n",
        "    reversed_half = 0\n",
        "\n",
        "    # The loop continues as long as the original number (x) is greater than the reversed digits (reversed_half).\n",
        "    # This ensures we process only half of the digits in the number, which is sufficient for checking symmetry.\n",
        "    while x > reversed_half:\n",
        "\n",
        "        # x % 10 extracts the last digit of x (e.g., for 123, it gives 3).\n",
        "        # This digit is added to reversed_half, but first reversed_half is multiplied by 10 to shift its existing digits to the left (e.g., 12 becomes 120).\n",
        "        # As a result, reversed_half accumulates the digits of the second half in reverse order.\n",
        "        reversed_half = reversed_half * 10 + x % 10\n",
        "\n",
        "        # Below removes the last digit from x by performing integer division (e.g., for 123, it becomes 12).\n",
        "        x //= 10\n",
        "\n",
        "    # Check if the original first half equals the reversed second half\n",
        "    # If x == reversed_half, the number is an even-length palindrome (e.g., 1221).\n",
        "    # If x == reversed_half // 10, the number is an odd-length palindrome (e.g., 121).\n",
        "    return x == reversed_half or x == reversed_half // 10\n",
        "\n",
        "# Example usage:\n",
        "print(is_palindrome(121))  # True\n",
        "print(is_palindrome(-121))  # False\n",
        "print(is_palindrome(10))  # False\n"
      ],
      "metadata": {
        "colab": {
          "base_uri": "https://localhost:8080/"
        },
        "id": "dLKl9ltTlX0Q",
        "outputId": "fd3ba66f-bedc-4751-81dc-b15be8f468f9"
      },
      "execution_count": 2,
      "outputs": [
        {
          "output_type": "stream",
          "name": "stdout",
          "text": [
            "True\n",
            "False\n",
            "False\n"
          ]
        }
      ]
    }
  ]
}