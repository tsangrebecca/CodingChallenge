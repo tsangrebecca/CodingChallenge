{
  "nbformat": 4,
  "nbformat_minor": 0,
  "metadata": {
    "colab": {
      "provenance": [],
      "authorship_tag": "ABX9TyN6+FUmQRpLa6UZ6Wtpb3rt",
      "include_colab_link": true
    },
    "kernelspec": {
      "name": "python3",
      "display_name": "Python 3"
    },
    "language_info": {
      "name": "python"
    }
  },
  "cells": [
    {
      "cell_type": "markdown",
      "metadata": {
        "id": "view-in-github",
        "colab_type": "text"
      },
      "source": [
        "<a href=\"https://colab.research.google.com/github/tsangrebecca/CodingChallenge/blob/main/CodeChallenge_Arrays_Concatenation.ipynb\" target=\"_parent\"><img src=\"https://colab.research.google.com/assets/colab-badge.svg\" alt=\"Open In Colab\"/></a>"
      ]
    },
    {
      "cell_type": "code",
      "source": [
        "def solution2(nums):\n",
        "  return nums * 2"
      ],
      "metadata": {
        "id": "gO3WtSIrO1cw"
      },
      "execution_count": 3,
      "outputs": []
    },
    {
      "cell_type": "code",
      "source": [
        "solution2([1,2,3,4,5,6])"
      ],
      "metadata": {
        "colab": {
          "base_uri": "https://localhost:8080/"
        },
        "id": "7S_ZvSw6P8LS",
        "outputId": "dc5471c0-0882-4f0a-9df2-d471af2ef427"
      },
      "execution_count": 5,
      "outputs": [
        {
          "output_type": "execute_result",
          "data": {
            "text/plain": [
              "[1, 2, 3, 4, 5, 6, 1, 2, 3, 4, 5, 6]"
            ]
          },
          "metadata": {},
          "execution_count": 5
        }
      ]
    },
    {
      "cell_type": "code",
      "execution_count": 1,
      "metadata": {
        "id": "G5wIw1CYOYVK"
      },
      "outputs": [],
      "source": [
        "# Complicated version\n",
        "# def solution(nums):\n",
        "#   ans = [] # to store the final result\n",
        "#   for i in range(2): # duplicate the mosaic\n",
        "#     copy = []\n",
        "#     for num in nums:\n",
        "#       copy.append(num) # just to create a copy of nums manually OR creating a duplicate of nums w/o modifying the original array\n",
        "#     ans.extend(copy) # appends all elements from copy to ans, and we got a loop for twice, so ans will contain nums x 2\n",
        "#   return ans"
      ]
    },
    {
      "cell_type": "code",
      "source": [
        "solution([1,2,3,4,5,6])"
      ],
      "metadata": {
        "colab": {
          "base_uri": "https://localhost:8080/"
        },
        "id": "jT9qxOxBOwjM",
        "outputId": "24947874-0869-45ba-d922-caf9f347ccc0"
      },
      "execution_count": 2,
      "outputs": [
        {
          "output_type": "execute_result",
          "data": {
            "text/plain": [
              "[1, 2, 3, 4, 5, 6, 1, 2, 3, 4, 5, 6]"
            ]
          },
          "metadata": {},
          "execution_count": 2
        }
      ]
    },
    {
      "cell_type": "code",
      "source": [],
      "metadata": {
        "id": "RnlPmSmjP_b4"
      },
      "execution_count": null,
      "outputs": []
    }
  ]
}
