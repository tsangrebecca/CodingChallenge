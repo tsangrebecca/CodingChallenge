{
  "nbformat": 4,
  "nbformat_minor": 0,
  "metadata": {
    "colab": {
      "provenance": [],
      "authorship_tag": "ABX9TyNrSg6HMX+E0UfdN2bAC3Sy",
      "include_colab_link": true
    },
    "kernelspec": {
      "name": "python3",
      "display_name": "Python 3"
    },
    "language_info": {
      "name": "python"
    }
  },
  "cells": [
    {
      "cell_type": "markdown",
      "metadata": {
        "id": "view-in-github",
        "colab_type": "text"
      },
      "source": [
        "<a href=\"https://colab.research.google.com/github/tsangrebecca/CodingChallenge/blob/main/CodeChallenge_Arrays_Find_index_of_a_given_value_in_an_array.ipynb\" target=\"_parent\"><img src=\"https://colab.research.google.com/assets/colab-badge.svg\" alt=\"Open In Colab\"/></a>"
      ]
    },
    {
      "cell_type": "code",
      "execution_count": 4,
      "metadata": {
        "id": "nEFMPeosRDEI"
      },
      "outputs": [],
      "source": [
        "def solution(a, value):\n",
        "  for index, element in enumerate(a):\n",
        "    if value == element:\n",
        "      return index\n",
        "  return -1 # otherwise, if value doesn't appear in array elements, we show a -1"
      ]
    },
    {
      "cell_type": "code",
      "source": [
        "solution([2,4,6,8,10], 10)"
      ],
      "metadata": {
        "colab": {
          "base_uri": "https://localhost:8080/"
        },
        "id": "wFJXPCsCRbjz",
        "outputId": "6e0b439a-3ee6-4fa1-d68d-6561c923ac01"
      },
      "execution_count": 3,
      "outputs": [
        {
          "output_type": "execute_result",
          "data": {
            "text/plain": [
              "4"
            ]
          },
          "metadata": {},
          "execution_count": 3
        }
      ]
    },
    {
      "cell_type": "code",
      "source": [
        "solution([0], 2)"
      ],
      "metadata": {
        "colab": {
          "base_uri": "https://localhost:8080/"
        },
        "id": "_Tzaux9oRjKV",
        "outputId": "3cb6b014-4c52-472d-ac7e-e58e813d5d79"
      },
      "execution_count": 6,
      "outputs": [
        {
          "output_type": "execute_result",
          "data": {
            "text/plain": [
              "-1"
            ]
          },
          "metadata": {},
          "execution_count": 6
        }
      ]
    },
    {
      "cell_type": "code",
      "source": [],
      "metadata": {
        "id": "GaPJFioSRo7S"
      },
      "execution_count": null,
      "outputs": []
    }
  ]
}
